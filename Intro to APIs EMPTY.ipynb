{
 "cells": [
  {
   "cell_type": "markdown",
   "id": "7196054f",
   "metadata": {},
   "source": [
    "# Working with APIs"
   ]
  },
  {
   "cell_type": "markdown",
   "id": "0547b71e",
   "metadata": {},
   "source": [
    "API stands for Application programming interface<br>\n",
    "APIs are a way for applications to talk to eachother<br>\n",
    "In python we use the requests package to handle the connection<br>\n",
    "<small><strong>Note: It is requests with an s not request(this is a different package)</strong></small><br>\n",
    "Most API's communicate with data in the form of JSON<br>\n",
    "JSON stands for JavaScript Object Notation"
   ]
  },
  {
   "cell_type": "code",
   "execution_count": 1,
   "id": "4db9d154",
   "metadata": {},
   "outputs": [],
   "source": [
    "#import the packages we need:\n"
   ]
  },
  {
   "cell_type": "markdown",
   "id": "e8c2ce51",
   "metadata": {},
   "source": [
    "We will be connecting to the Ergast F1 Racer API today:\n",
    "http://ergast.com/mrd/\n",
    "\n",
    "to view JSON data nicely in the Chrome browser install the extension JSONview"
   ]
  },
  {
   "cell_type": "code",
   "execution_count": null,
   "id": "52c440c6",
   "metadata": {},
   "outputs": [],
   "source": []
  },
  {
   "cell_type": "code",
   "execution_count": null,
   "id": "f60c1b4a",
   "metadata": {},
   "outputs": [],
   "source": []
  },
  {
   "cell_type": "code",
   "execution_count": 2,
   "id": "7b63a204",
   "metadata": {},
   "outputs": [],
   "source": [
    "#response object\n"
   ]
  },
  {
   "cell_type": "code",
   "execution_count": 3,
   "id": "c6d1fdaf",
   "metadata": {},
   "outputs": [],
   "source": [
    "#check and make sure we got a successful response from the API\n"
   ]
  },
  {
   "cell_type": "code",
   "execution_count": 4,
   "id": "ed4d3256",
   "metadata": {},
   "outputs": [],
   "source": [
    "#view the response as a JSON\n"
   ]
  },
  {
   "cell_type": "code",
   "execution_count": null,
   "id": "92e6cd2c",
   "metadata": {},
   "outputs": [],
   "source": []
  },
  {
   "cell_type": "code",
   "execution_count": 5,
   "id": "f074dfcf",
   "metadata": {},
   "outputs": [],
   "source": [
    "# We only want the Driver Standings\n"
   ]
  },
  {
   "cell_type": "code",
   "execution_count": null,
   "id": "be46a950",
   "metadata": {},
   "outputs": [],
   "source": []
  },
  {
   "cell_type": "code",
   "execution_count": null,
   "id": "3740c752",
   "metadata": {},
   "outputs": [],
   "source": []
  },
  {
   "cell_type": "markdown",
   "id": "6d546014",
   "metadata": {},
   "source": [
    "# <strong>Homework</strong>\n",
    "check out this Pokemon API https://pokeapi.co/\n",
    "Use the requests package to connect to this API and get and store data for 5 different pokemon.\n",
    "Get the pokemons: name, atleast one ability's name, base_experience, and the URL for its sprite (an image that shows up on screen) for the 'front_shiny', attack base_state, hp base_stat, defense base_stat"
   ]
  },
  {
   "cell_type": "code",
   "execution_count": 5,
   "id": "5a9081e3",
   "metadata": {},
   "outputs": [
    {
     "name": "stdout",
     "output_type": "stream",
     "text": [
      "Requirement already satisfied: requests in /Users/jenequa/anaconda3/lib/python3.11/site-packages (2.31.0)\n",
      "Requirement already satisfied: charset-normalizer<4,>=2 in /Users/jenequa/anaconda3/lib/python3.11/site-packages (from requests) (2.0.4)\n",
      "Requirement already satisfied: idna<4,>=2.5 in /Users/jenequa/anaconda3/lib/python3.11/site-packages (from requests) (3.4)\n",
      "Requirement already satisfied: urllib3<3,>=1.21.1 in /Users/jenequa/anaconda3/lib/python3.11/site-packages (from requests) (1.26.16)\n",
      "Requirement already satisfied: certifi>=2017.4.17 in /Users/jenequa/anaconda3/lib/python3.11/site-packages (from requests) (2024.2.2)\n",
      "{'name': 'pikachu', 'ability': 'static', 'base_experience': 112, 'sprite_url': 'https://raw.githubusercontent.com/PokeAPI/sprites/master/sprites/pokemon/shiny/25.png', 'attack_stat': 55, 'hp_stat': 35, 'defense_stat': 40}\n",
      "{'name': 'bulbasaur', 'ability': 'overgrow', 'base_experience': 64, 'sprite_url': 'https://raw.githubusercontent.com/PokeAPI/sprites/master/sprites/pokemon/shiny/1.png', 'attack_stat': 49, 'hp_stat': 45, 'defense_stat': 49}\n",
      "{'name': 'charmander', 'ability': 'blaze', 'base_experience': 62, 'sprite_url': 'https://raw.githubusercontent.com/PokeAPI/sprites/master/sprites/pokemon/shiny/4.png', 'attack_stat': 52, 'hp_stat': 39, 'defense_stat': 43}\n",
      "{'name': 'squirtle', 'ability': 'torrent', 'base_experience': 63, 'sprite_url': 'https://raw.githubusercontent.com/PokeAPI/sprites/master/sprites/pokemon/shiny/7.png', 'attack_stat': 48, 'hp_stat': 44, 'defense_stat': 65}\n",
      "{'name': 'eevee', 'ability': 'run-away', 'base_experience': 65, 'sprite_url': 'https://raw.githubusercontent.com/PokeAPI/sprites/master/sprites/pokemon/shiny/133.png', 'attack_stat': 55, 'hp_stat': 55, 'defense_stat': 50}\n"
     ]
    }
   ],
   "source": [
    "# Install the requests package\n",
    "!pip install requests\n",
    "\n",
    "# Import the requests package\n",
    "import requests\n",
    "\n",
    "def get_pokemon_data(pokemon_name):\n",
    "    url = f'https://pokeapi.co/api/v2/pokemon/{pokemon_name}'\n",
    "    response = requests.get(url)\n",
    "    data = response.json()\n",
    "\n",
    "    # Extracting the required information\n",
    "    name = data['name']\n",
    "    ability = data['abilities'][0]['ability']['name']\n",
    "    base_experience = data['base_experience']\n",
    "    sprite_url = data['sprites']['front_shiny']\n",
    "    attack_stat = next(item for item in data['stats'] if item['stat']['name'] == 'attack')['base_stat']\n",
    "    hp_stat = next(item for item in data['stats'] if item['stat']['name'] == 'hp')['base_stat']\n",
    "    defense_stat = next(item for item in data['stats'] if item['stat']['name'] == 'defense')['base_stat']\n",
    "\n",
    "    return {\n",
    "        'name': name,\n",
    "        'ability': ability,\n",
    "        'base_experience': base_experience,\n",
    "        'sprite_url': sprite_url,\n",
    "        'attack_stat': attack_stat,\n",
    "        'hp_stat': hp_stat,\n",
    "        'defense_stat': defense_stat\n",
    "    }\n",
    "\n",
    "# List of Pokémon names\n",
    "pokemon_names = ['pikachu', 'bulbasaur', 'charmander', 'squirtle', 'eevee']\n",
    "\n",
    "# Fetching and storing data for each Pokémon\n",
    "pokemon_data = []\n",
    "for name in pokemon_names:\n",
    "    data = get_pokemon_data(name)\n",
    "    pokemon_data.append(data)\n",
    "\n",
    "# Displaying the data\n",
    "for data in pokemon_data:\n",
    "    print(data)"
   ]
  },
  {
   "cell_type": "code",
   "execution_count": 3,
   "id": "371c527f",
   "metadata": {},
   "outputs": [
    {
     "ename": "SyntaxError",
     "evalue": "invalid non-printable character U+200B (300060764.py, line 42)",
     "output_type": "error",
     "traceback": [
      "\u001b[0;36m  Cell \u001b[0;32mIn[3], line 42\u001b[0;36m\u001b[0m\n\u001b[0;31m    print(data​⬤\u001b[0m\n\u001b[0m              ^\u001b[0m\n\u001b[0;31mSyntaxError\u001b[0m\u001b[0;31m:\u001b[0m invalid non-printable character U+200B\n"
     ]
    }
   ],
   "source": []
  },
  {
   "cell_type": "code",
   "execution_count": null,
   "id": "826c8213",
   "metadata": {},
   "outputs": [],
   "source": []
  }
 ],
 "metadata": {
  "kernelspec": {
   "display_name": "Python 3 (ipykernel)",
   "language": "python",
   "name": "python3"
  },
  "language_info": {
   "codemirror_mode": {
    "name": "ipython",
    "version": 3
   },
   "file_extension": ".py",
   "mimetype": "text/x-python",
   "name": "python",
   "nbconvert_exporter": "python",
   "pygments_lexer": "ipython3",
   "version": "3.11.5"
  }
 },
 "nbformat": 4,
 "nbformat_minor": 5
}
